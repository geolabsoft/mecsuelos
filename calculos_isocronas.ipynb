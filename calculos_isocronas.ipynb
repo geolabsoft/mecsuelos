{
  "nbformat": 4,
  "nbformat_minor": 0,
  "metadata": {
    "colab": {
      "name": "Cálculos Isocronas",
      "provenance": [],
      "collapsed_sections": [
        "Hwnfpq7VJmTM",
        "4vLymaUJOgx3",
        "sfDODmB6YaSI",
        "PO4pKSwuAtlL",
        "7i-xd0XlDWCY",
        "A4rHrGXNO-PL",
        "Eap0PWKePgXD",
        "B4692hEnPv8L",
        "WcuZC2aRF6Zb",
        "r38szak5BLXM"
      ],
      "mount_file_id": "1CY1uAsiASEC75jRu8i1EHY0iij3fjZR7",
      "authorship_tag": "ABX9TyPteAeeVpw+is9BaEznYWa6"
    },
    "kernelspec": {
      "name": "python3",
      "display_name": "Python 3"
    },
    "widgets": {
      "application/vnd.jupyter.widget-state+json": {
        "d8fda413337747e18bd2120b911cc080": {
          "model_module": "@jupyter-widgets/controls",
          "model_name": "VBoxModel",
          "state": {
            "_view_name": "VBoxView",
            "_dom_classes": [
              "widget-interact"
            ],
            "_model_name": "VBoxModel",
            "_view_module": "@jupyter-widgets/controls",
            "_model_module_version": "1.5.0",
            "_view_count": null,
            "_view_module_version": "1.5.0",
            "box_style": "",
            "layout": "IPY_MODEL_549d7c087c9a432eb98891a4d6b294e4",
            "_model_module": "@jupyter-widgets/controls",
            "children": [
              "IPY_MODEL_5c460a56c5fb45d2a42b7cc13d7135dc",
              "IPY_MODEL_541e3466c6ec46e5a697d4ab77ca896b",
              "IPY_MODEL_fb7fe6e9d46542f2b1f1b475086ecc35",
              "IPY_MODEL_d5a4382533ee4d57b526eac41d1ab7df"
            ]
          }
        },
        "549d7c087c9a432eb98891a4d6b294e4": {
          "model_module": "@jupyter-widgets/base",
          "model_name": "LayoutModel",
          "state": {
            "_view_name": "LayoutView",
            "grid_template_rows": null,
            "right": null,
            "justify_content": null,
            "_view_module": "@jupyter-widgets/base",
            "overflow": null,
            "_model_module_version": "1.2.0",
            "_view_count": null,
            "flex_flow": null,
            "width": null,
            "min_width": null,
            "border": null,
            "align_items": null,
            "bottom": null,
            "_model_module": "@jupyter-widgets/base",
            "top": null,
            "grid_column": null,
            "overflow_y": null,
            "overflow_x": null,
            "grid_auto_flow": null,
            "grid_area": null,
            "grid_template_columns": null,
            "flex": null,
            "_model_name": "LayoutModel",
            "justify_items": null,
            "grid_row": null,
            "max_height": null,
            "align_content": null,
            "visibility": null,
            "align_self": null,
            "height": null,
            "min_height": null,
            "padding": null,
            "grid_auto_rows": null,
            "grid_gap": null,
            "max_width": null,
            "order": null,
            "_view_module_version": "1.2.0",
            "grid_template_areas": null,
            "object_position": null,
            "object_fit": null,
            "grid_auto_columns": null,
            "margin": null,
            "display": null,
            "left": null
          }
        },
        "5c460a56c5fb45d2a42b7cc13d7135dc": {
          "model_module": "@jupyter-widgets/controls",
          "model_name": "FloatSliderModel",
          "state": {
            "_view_name": "FloatSliderView",
            "style": "IPY_MODEL_ec7ebaed34cd4a36b983086c733186a1",
            "_dom_classes": [],
            "description": "Tv",
            "step": 0.01,
            "_model_name": "FloatSliderModel",
            "orientation": "horizontal",
            "max": 2,
            "_view_module": "@jupyter-widgets/controls",
            "_model_module_version": "1.5.0",
            "value": 0.37,
            "_view_count": null,
            "disabled": false,
            "_view_module_version": "1.5.0",
            "min": 0.01,
            "continuous_update": true,
            "readout_format": ".2f",
            "description_tooltip": null,
            "readout": true,
            "_model_module": "@jupyter-widgets/controls",
            "layout": "IPY_MODEL_3ba2a48e72f1437bb14c173e229db9d4"
          }
        },
        "541e3466c6ec46e5a697d4ab77ca896b": {
          "model_module": "@jupyter-widgets/controls",
          "model_name": "FloatSliderModel",
          "state": {
            "_view_name": "FloatSliderView",
            "style": "IPY_MODEL_4834fd08febb4290978a5df14b79d8d0",
            "_dom_classes": [],
            "description": "Zr",
            "step": 0.01,
            "_model_name": "FloatSliderModel",
            "orientation": "horizontal",
            "max": 1,
            "_view_module": "@jupyter-widgets/controls",
            "_model_module_version": "1.5.0",
            "value": 0.36,
            "_view_count": null,
            "disabled": false,
            "_view_module_version": "1.5.0",
            "min": -1,
            "continuous_update": true,
            "readout_format": ".2f",
            "description_tooltip": null,
            "readout": true,
            "_model_module": "@jupyter-widgets/controls",
            "layout": "IPY_MODEL_cd465805181c475a8fee51f7a7014651"
          }
        },
        "fb7fe6e9d46542f2b1f1b475086ecc35": {
          "model_module": "@jupyter-widgets/controls",
          "model_name": "CheckboxModel",
          "state": {
            "_view_name": "CheckboxView",
            "style": "IPY_MODEL_254002a8a4324768b0c8069c6ebfdd77",
            "_dom_classes": [],
            "description": "Gráfica",
            "_model_name": "CheckboxModel",
            "_view_module": "@jupyter-widgets/controls",
            "_model_module_version": "1.5.0",
            "value": true,
            "_view_count": null,
            "disabled": false,
            "_view_module_version": "1.5.0",
            "indent": true,
            "description_tooltip": null,
            "_model_module": "@jupyter-widgets/controls",
            "layout": "IPY_MODEL_172c7c2380b34d48af8284b327af7110"
          }
        },
        "d5a4382533ee4d57b526eac41d1ab7df": {
          "model_module": "@jupyter-widgets/output",
          "model_name": "OutputModel",
          "state": {
            "_view_name": "OutputView",
            "msg_id": "",
            "_dom_classes": [],
            "_model_name": "OutputModel",
            "outputs": [
              {
                "output_type": "stream",
                "metadata": {
                  "tags": []
                },
                "text": "------------------------------------------------\n               Resultado gráfico\n------------------------------------------------\n",
                "stream": "stdout"
              },
              {
                "output_type": "display_data",
                "metadata": {
                  "tags": [],
                  "needs_background": "light"
                },
                "image/png": "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\n",
                "text/plain": "<Figure size 432x288 with 1 Axes>"
              },
              {
                "output_type": "stream",
                "metadata": {
                  "tags": []
                },
                "text": "-----------------------------------------------\n              Resultado numérico\n-----------------------------------------------\n\nTv = 0.37 / Zr = 0.36 -> Uz = 0.56853\n",
                "stream": "stdout"
              }
            ],
            "_view_module": "@jupyter-widgets/output",
            "_model_module_version": "1.0.0",
            "_view_count": null,
            "_view_module_version": "1.0.0",
            "layout": "IPY_MODEL_7479bcdb94e3499c906e2ae0ce933020",
            "_model_module": "@jupyter-widgets/output"
          }
        },
        "ec7ebaed34cd4a36b983086c733186a1": {
          "model_module": "@jupyter-widgets/controls",
          "model_name": "SliderStyleModel",
          "state": {
            "_view_name": "StyleView",
            "handle_color": null,
            "_model_name": "SliderStyleModel",
            "description_width": "",
            "_view_module": "@jupyter-widgets/base",
            "_model_module_version": "1.5.0",
            "_view_count": null,
            "_view_module_version": "1.2.0",
            "_model_module": "@jupyter-widgets/controls"
          }
        },
        "3ba2a48e72f1437bb14c173e229db9d4": {
          "model_module": "@jupyter-widgets/base",
          "model_name": "LayoutModel",
          "state": {
            "_view_name": "LayoutView",
            "grid_template_rows": null,
            "right": null,
            "justify_content": null,
            "_view_module": "@jupyter-widgets/base",
            "overflow": null,
            "_model_module_version": "1.2.0",
            "_view_count": null,
            "flex_flow": null,
            "width": null,
            "min_width": null,
            "border": null,
            "align_items": null,
            "bottom": null,
            "_model_module": "@jupyter-widgets/base",
            "top": null,
            "grid_column": null,
            "overflow_y": null,
            "overflow_x": null,
            "grid_auto_flow": null,
            "grid_area": null,
            "grid_template_columns": null,
            "flex": null,
            "_model_name": "LayoutModel",
            "justify_items": null,
            "grid_row": null,
            "max_height": null,
            "align_content": null,
            "visibility": null,
            "align_self": null,
            "height": null,
            "min_height": null,
            "padding": null,
            "grid_auto_rows": null,
            "grid_gap": null,
            "max_width": null,
            "order": null,
            "_view_module_version": "1.2.0",
            "grid_template_areas": null,
            "object_position": null,
            "object_fit": null,
            "grid_auto_columns": null,
            "margin": null,
            "display": null,
            "left": null
          }
        },
        "4834fd08febb4290978a5df14b79d8d0": {
          "model_module": "@jupyter-widgets/controls",
          "model_name": "SliderStyleModel",
          "state": {
            "_view_name": "StyleView",
            "handle_color": null,
            "_model_name": "SliderStyleModel",
            "description_width": "",
            "_view_module": "@jupyter-widgets/base",
            "_model_module_version": "1.5.0",
            "_view_count": null,
            "_view_module_version": "1.2.0",
            "_model_module": "@jupyter-widgets/controls"
          }
        },
        "cd465805181c475a8fee51f7a7014651": {
          "model_module": "@jupyter-widgets/base",
          "model_name": "LayoutModel",
          "state": {
            "_view_name": "LayoutView",
            "grid_template_rows": null,
            "right": null,
            "justify_content": null,
            "_view_module": "@jupyter-widgets/base",
            "overflow": null,
            "_model_module_version": "1.2.0",
            "_view_count": null,
            "flex_flow": null,
            "width": null,
            "min_width": null,
            "border": null,
            "align_items": null,
            "bottom": null,
            "_model_module": "@jupyter-widgets/base",
            "top": null,
            "grid_column": null,
            "overflow_y": null,
            "overflow_x": null,
            "grid_auto_flow": null,
            "grid_area": null,
            "grid_template_columns": null,
            "flex": null,
            "_model_name": "LayoutModel",
            "justify_items": null,
            "grid_row": null,
            "max_height": null,
            "align_content": null,
            "visibility": null,
            "align_self": null,
            "height": null,
            "min_height": null,
            "padding": null,
            "grid_auto_rows": null,
            "grid_gap": null,
            "max_width": null,
            "order": null,
            "_view_module_version": "1.2.0",
            "grid_template_areas": null,
            "object_position": null,
            "object_fit": null,
            "grid_auto_columns": null,
            "margin": null,
            "display": null,
            "left": null
          }
        },
        "254002a8a4324768b0c8069c6ebfdd77": {
          "model_module": "@jupyter-widgets/controls",
          "model_name": "DescriptionStyleModel",
          "state": {
            "_view_name": "StyleView",
            "_model_name": "DescriptionStyleModel",
            "description_width": "",
            "_view_module": "@jupyter-widgets/base",
            "_model_module_version": "1.5.0",
            "_view_count": null,
            "_view_module_version": "1.2.0",
            "_model_module": "@jupyter-widgets/controls"
          }
        },
        "172c7c2380b34d48af8284b327af7110": {
          "model_module": "@jupyter-widgets/base",
          "model_name": "LayoutModel",
          "state": {
            "_view_name": "LayoutView",
            "grid_template_rows": null,
            "right": null,
            "justify_content": null,
            "_view_module": "@jupyter-widgets/base",
            "overflow": null,
            "_model_module_version": "1.2.0",
            "_view_count": null,
            "flex_flow": null,
            "width": null,
            "min_width": null,
            "border": null,
            "align_items": null,
            "bottom": null,
            "_model_module": "@jupyter-widgets/base",
            "top": null,
            "grid_column": null,
            "overflow_y": null,
            "overflow_x": null,
            "grid_auto_flow": null,
            "grid_area": null,
            "grid_template_columns": null,
            "flex": null,
            "_model_name": "LayoutModel",
            "justify_items": null,
            "grid_row": null,
            "max_height": null,
            "align_content": null,
            "visibility": null,
            "align_self": null,
            "height": null,
            "min_height": null,
            "padding": null,
            "grid_auto_rows": null,
            "grid_gap": null,
            "max_width": null,
            "order": null,
            "_view_module_version": "1.2.0",
            "grid_template_areas": null,
            "object_position": null,
            "object_fit": null,
            "grid_auto_columns": null,
            "margin": null,
            "display": null,
            "left": null
          }
        },
        "7479bcdb94e3499c906e2ae0ce933020": {
          "model_module": "@jupyter-widgets/base",
          "model_name": "LayoutModel",
          "state": {
            "_view_name": "LayoutView",
            "grid_template_rows": null,
            "right": null,
            "justify_content": null,
            "_view_module": "@jupyter-widgets/base",
            "overflow": null,
            "_model_module_version": "1.2.0",
            "_view_count": null,
            "flex_flow": null,
            "width": null,
            "min_width": null,
            "border": null,
            "align_items": null,
            "bottom": null,
            "_model_module": "@jupyter-widgets/base",
            "top": null,
            "grid_column": null,
            "overflow_y": null,
            "overflow_x": null,
            "grid_auto_flow": null,
            "grid_area": null,
            "grid_template_columns": null,
            "flex": null,
            "_model_name": "LayoutModel",
            "justify_items": null,
            "grid_row": null,
            "max_height": null,
            "align_content": null,
            "visibility": null,
            "align_self": null,
            "height": null,
            "min_height": null,
            "padding": null,
            "grid_auto_rows": null,
            "grid_gap": null,
            "max_width": null,
            "order": null,
            "_view_module_version": "1.2.0",
            "grid_template_areas": null,
            "object_position": null,
            "object_fit": null,
            "grid_auto_columns": null,
            "margin": null,
            "display": null,
            "left": null
          }
        }
      }
    }
  },
  "cells": [
    {
      "cell_type": "markdown",
      "metadata": {
        "id": "_Py7ARN3KH6x"
      },
      "source": [
        "Cuaderno para la utilización de las isocronas de forma automática. Utiliza la librería isocronas.py, disponible en el repositorio de Github de [geolabsoft](https://github.com/geolabsoft/mecsuelos). La librería está programada en Python 3."
      ]
    },
    {
      "cell_type": "markdown",
      "metadata": {
        "id": "sfDODmB6YaSI"
      },
      "source": [
        "# **Grado de consolidacion (Teoría de Terzaghi-Frölich para la consolidación unidimensional) - CÁLCULOS**"
      ]
    },
    {
      "cell_type": "markdown",
      "metadata": {
        "id": "PO4pKSwuAtlL"
      },
      "source": [
        "## **Configuración**\n",
        "\n",
        "Para usar el resto de las celdas del cuaderno es necesario ejecutar primero esta sección y comprobar que no se producen errores en su ejecución.\n",
        "\n",
        "Puedes abir esta sección para ver cómo está hecho y modificarlo para hacer las pruebas que consideres necesarias. Recuerda que si haces algún cambio puede que el programa ya no funcione como estaba diseñado originalmente, así que guarda una copia del original por si acaso.\n",
        "\n"
      ]
    },
    {
      "cell_type": "code",
      "metadata": {
        "id": "C1T_4e0vFbBY",
        "colab": {
          "base_uri": "https://localhost:8080/"
        },
        "cellView": "form",
        "outputId": "b1786e49-956c-4c20-a07b-ddf42bbb213b"
      },
      "source": [
        "#@title\n",
        "# Instala la librería requests. En caso de estar instalada no es necesaria\n",
        "# la siguiente línea\n",
        "# !pip install requests\n",
        "# Importa las librerías estandar necesarias\n",
        "import math\n",
        "import matplotlib.pyplot as plt\n",
        "import numpy as np\n",
        "from ipywidgets import FloatSlider, Checkbox, interact\n",
        "import requests\n",
        "# Importa la librería isocronas.py desde Github\n",
        "url = 'https://raw.githubusercontent.com/geolabsoft/mecsuelos/main/isocronas.py'\n",
        "r = requests.get(url)\n",
        "with open('isocronas.py', 'w') as f:\n",
        "    f.write(r.text)\n",
        "import isocronas as iso\n",
        "# Mensaje de terminación, si no ha habido errores se mostrará en el resultado\n",
        "print('----------')\n",
        "print('Librería importada')\n",
        "print('Ya se pueden usar las funciones')\n",
        "\n",
        "# Obtiene los valores de las isocronas estandar\n",
        "tvV = [0.05,0.1,0.2,0.3,0.4,0.5,0.6,0.7,0.8,0.9,1,1.1]\n",
        "zrV = np.linspace(0,1,50)\n",
        "zrVTot = np.concatenate((0-np.flip(zrV),np.delete(zrV,0)))\n",
        "isoSTD = []\n",
        "for j in tvV:\n",
        "  uzV = []\n",
        "  for i in zrV:\n",
        "    uzV.append(iso.uzt(j,i))\n",
        "  uzVTot = np.concatenate((np.flip(uzV),np.delete(uzV,0)))\n",
        "  isoSTD.append(uzVTot)\n",
        "print('----------')\n",
        "print('Datos cargados')\n",
        "\n",
        "# Define la función para los cálculos interactivos usando interact\n",
        "def uz_int(Tv,Zr,grafica=True):\n",
        "  \"\"\" Función para el uso de interact para el cálculo interactivo de grado de\n",
        "  consolidación. Además de obtener el grado de consolidación, dibuja las\n",
        "  isocronas estandar y la correspondiente a los valores de Tv y Zr que se\n",
        "  proporcionan como parámetros.\n",
        "  La variable [grafica] permite seleccionar si se obtiene o no la gráfica.\"\"\"\n",
        "\n",
        "  # Obtiene el grado de consolidación usando isocronas.py\n",
        "  Uz = iso.uzt(Tv,Zr)\n",
        "\n",
        "  if grafica:\n",
        "    # Crea una nueva figura\n",
        "    out = plt.figure()\n",
        "\n",
        "    # Dibuja las isocronas estandar\n",
        "    for uzVTot in isoSTD:\n",
        "      plt.plot(uzVTot,zrVTot,'grey',linewidth=0.5)\n",
        "\n",
        "    # Dibuja la isocrona correspondiente al Tv proporcionado\n",
        "    uzV = []\n",
        "    for i in zrV:\n",
        "      uzV.append(iso.uzt(Tv,i))\n",
        "    uzVTot = np.concatenate((np.flip(uzV),np.delete(uzV,0)))\n",
        "    plt.plot(uzVTot,zrVTot,'b')\n",
        "  \n",
        "    # Dibuja el punto que se está calculando\n",
        "    plt.plot(Uz,Zr,'ro')\n",
        "    plt.plot([0,Uz],[Zr,Zr],'r--',linewidth=0.75)\n",
        "    plt.plot([Uz,Uz],[-1,Zr],'r--',linewidth=0.75)\n",
        "\n",
        "    # Configura la apariencia del gráfico\n",
        "    plt.title(\"Isocronas\\nTv = \" + str(round(Tv,5)) + \" / Zr = \" + \n",
        "              str(round(Zr,5)) + \" -> Uz = \" + str(round(Uz,5)))\n",
        "    plt.xlim(0,1)\n",
        "    plt.ylim(-1,1)\n",
        "    plt.xlabel(\"Uz\")\n",
        "    plt.ylabel(\"Zr\")\n",
        "    plt.grid(True)\n",
        "\n",
        "    print(\"------------------------------------------------\")\n",
        "    print(\"               Resultado gráfico\")\n",
        "    print(\"------------------------------------------------\")\n",
        "    \n",
        "    # Muestra la gráfica\n",
        "    plt.show()\n",
        "\n",
        "  print(\"-----------------------------------------------\")\n",
        "  print(\"              Resultado numérico\")\n",
        "  print(\"-----------------------------------------------\")\n",
        "  print(\"\")\n",
        "  print(\"Tv = \" + str(round(Tv,5)) + \" / Zr = \" + \n",
        "              str(round(Zr,5)) + \" -> Uz = \" + str(round(Uz,5)))\n",
        "\n",
        "print('----------')\n",
        "print('Función para interact definida')\n",
        "\n",
        "print('----------')\n",
        "print('Ya se puede usar el cuaderno para hacer los cálculos')"
      ],
      "execution_count": null,
      "outputs": [
        {
          "output_type": "stream",
          "text": [
            "----------\n",
            "Librería importada\n",
            "Ya se pueden usar las funciones\n",
            "----------\n",
            "Datos cargados\n",
            "----------\n",
            "Función para interact definida\n",
            "----------\n",
            "Ya se puede usar el cuaderno para hacer los cálculos\n"
          ],
          "name": "stdout"
        }
      ]
    },
    {
      "cell_type": "markdown",
      "metadata": {
        "id": "7i-xd0XlDWCY"
      },
      "source": [
        "## **Cálculos simples**"
      ]
    },
    {
      "cell_type": "markdown",
      "metadata": {
        "id": "PNzLDG0oR9n-"
      },
      "source": [
        "Cada una de las celdas permite calcular uno de los parámetros de las isocoronas en función de los otros dos. \n",
        "En cada una de las celdas se introducen los valores de los parámetros conocidos y se obtiene el valor correspondiente a los otros dos."
      ]
    },
    {
      "cell_type": "markdown",
      "metadata": {
        "id": "A4rHrGXNO-PL"
      },
      "source": [
        "### Cálculo del grado de consolidación (Uz) conocidos el factor tiempo (Tv) y la altura relativa (Zr)"
      ]
    },
    {
      "cell_type": "code",
      "metadata": {
        "id": "8a0IkorQDRe8",
        "cellView": "form",
        "colab": {
          "base_uri": "https://localhost:8080/"
        },
        "outputId": "20b34ff7-9136-43bd-98a8-9861c1a54969"
      },
      "source": [
        "#@title Grado de consolidación: Uz = f (Tv, Zr)\n",
        "\n",
        "Tv = 0.25 #@param {type:\"number\"}\n",
        "Zr =  0#@param {type:\"number\"}\n",
        "print(\"Tv = \" + str(Tv) + \" , Zr = \" + str(Zr) + \" -> Uz = \" + str(iso.uzt(Tv,Zr)))"
      ],
      "execution_count": null,
      "outputs": [
        {
          "output_type": "stream",
          "text": [
            "Tv = 0.25 , Zr = 0 -> Uz = 0.3145542331096479\n"
          ],
          "name": "stdout"
        }
      ]
    },
    {
      "cell_type": "markdown",
      "metadata": {
        "id": "Eap0PWKePgXD"
      },
      "source": [
        "### Cálculo del factor tiempo (Tv) conocidos la altura relativa (Zr) y el grado de consolidación (Uz)."
      ]
    },
    {
      "cell_type": "code",
      "metadata": {
        "id": "WsNNjYUxEWNy",
        "cellView": "form",
        "colab": {
          "base_uri": "https://localhost:8080/"
        },
        "outputId": "65b55529-571b-4f6c-ae12-cbc1dd8a3efc"
      },
      "source": [
        "#@title Factor tiempo: Tv = f (Zr, Uz)\n",
        "\n",
        "Zr = 0 #@param {type:\"number\"}\n",
        "Uz = 0.314 #@param {type:\"number\"}\n",
        "print(\"Zr = \" + str(Zr) + \" , Uz = \" + str(Uz) + \" -> Tv = \" + str(iso.tvt(Zr,Uz)))"
      ],
      "execution_count": null,
      "outputs": [
        {
          "output_type": "stream",
          "text": [
            "Zr = 0 , Uz = 0.314 -> Tv = 0.24966598761500786\n"
          ],
          "name": "stdout"
        }
      ]
    },
    {
      "cell_type": "markdown",
      "metadata": {
        "id": "B4692hEnPv8L"
      },
      "source": [
        "### Cálculo de la altura relativa (Zr) conocidos el factor tiempo (Tv) y el grado de consolidación (Uz)"
      ]
    },
    {
      "cell_type": "code",
      "metadata": {
        "id": "W9Sy-dX6E24t",
        "cellView": "form"
      },
      "source": [
        "#@title Altura relativa: Zr = f (Tv, Uz)\n",
        "\n",
        "Tv = 0.25 #@param {type:\"number\"}\n",
        "Uz = 0.314 #@param {type:\"number\"}\n",
        "print(\"Tv = \" + str(Tv) + \" , Uz = \" + str(Uz) + \" -> Zr = \" + str(iso.zrt(Tv,Uz)))"
      ],
      "execution_count": null,
      "outputs": []
    },
    {
      "cell_type": "markdown",
      "metadata": {
        "id": "WcuZC2aRF6Zb"
      },
      "source": [
        "## **Cálculos interactivos y con salida gráfica**"
      ]
    },
    {
      "cell_type": "markdown",
      "metadata": {
        "id": "r38szak5BLXM"
      },
      "source": [
        "### Cálculo interactivo del grado de consolidación (Uz) conocidos el factor tiempo (Tv) y la altura relativa (Zr)"
      ]
    },
    {
      "cell_type": "code",
      "metadata": {
        "id": "1BNBJ-498gXQ",
        "cellView": "form",
        "colab": {
          "base_uri": "https://localhost:8080/",
          "height": 610,
          "referenced_widgets": [
            "d8fda413337747e18bd2120b911cc080",
            "549d7c087c9a432eb98891a4d6b294e4",
            "5c460a56c5fb45d2a42b7cc13d7135dc",
            "541e3466c6ec46e5a697d4ab77ca896b",
            "fb7fe6e9d46542f2b1f1b475086ecc35",
            "d5a4382533ee4d57b526eac41d1ab7df",
            "ec7ebaed34cd4a36b983086c733186a1",
            "3ba2a48e72f1437bb14c173e229db9d4",
            "4834fd08febb4290978a5df14b79d8d0",
            "cd465805181c475a8fee51f7a7014651",
            "254002a8a4324768b0c8069c6ebfdd77",
            "172c7c2380b34d48af8284b327af7110",
            "7479bcdb94e3499c906e2ae0ce933020"
          ]
        },
        "outputId": "be8ee86d-a4b4-4ffc-9a21-81e805bc0b88"
      },
      "source": [
        "#@title\n",
        "confTv = FloatSlider(description = \"Tv\", value = 0.25, max = 2, \n",
        "                     min = 0.01, step = 0.01)\n",
        "confZr = FloatSlider(description = \"Zr\", value = 0.5, min = -1,\n",
        "                     max = 1, step = 0.01)\n",
        "confGraf = Checkbox(value = True, description = 'Gráfica')\n",
        "print(\"------------------------------------------------\")\n",
        "print(\"               Valores de entrada\")\n",
        "print(\"------------------------------------------------\")\n",
        "print(\"\")\n",
        "interact(uz_int, Tv = confTv, Zr = confZr, grafica = confGraf);"
      ],
      "execution_count": null,
      "outputs": [
        {
          "output_type": "stream",
          "text": [
            "------------------------------------------------\n",
            "               Valores de entrada\n",
            "------------------------------------------------\n",
            "\n"
          ],
          "name": "stdout"
        },
        {
          "output_type": "display_data",
          "data": {
            "application/vnd.jupyter.widget-view+json": {
              "model_id": "d8fda413337747e18bd2120b911cc080",
              "version_minor": 0,
              "version_major": 2
            },
            "text/plain": [
              "interactive(children=(FloatSlider(value=0.25, description='Tv', max=2.0, min=0.01, step=0.01), FloatSlider(val…"
            ]
          },
          "metadata": {
            "tags": []
          }
        }
      ]
    }
  ]
}